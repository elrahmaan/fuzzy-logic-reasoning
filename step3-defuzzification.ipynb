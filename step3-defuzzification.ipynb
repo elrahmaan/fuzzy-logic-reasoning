{
  "nbformat": 4,
  "nbformat_minor": 0,
  "metadata": {
    "colab": {
      "name": "P2-Abdul Rahman Saleh - Percobaan3.ipynb",
      "provenance": [],
      "collapsed_sections": [],
      "authorship_tag": "ABX9TyMtTQXZniSKYwOb6Wvffyu3"
    },
    "kernelspec": {
      "name": "python3",
      "display_name": "Python 3"
    },
    "language_info": {
      "name": "python"
    }
  },
  "cells": [
    {
      "cell_type": "markdown",
      "metadata": {
        "id": "UKaoyblZ0OcU"
      },
      "source": [
        "**Percobaan 3 : Defuzzifikasi**"
      ]
    },
    {
      "cell_type": "markdown",
      "metadata": {
        "id": "ycSS6sSu0SQA"
      },
      "source": [
        "Berdasarkan aktivasi dari setiap fungsi keanggotaan yang telah diketahui. Maka aktivasi semua output tersebut harus digabungkan dengan menggunakan operator maksimum (Langkah tersebuh dinamakan agregasi). Kemudian untuk mendapatkan output sesuai dengan angka yang nyata (tidak fuzzy lagi) maka diperlukan proses Deffuzyfikasi."
      ]
    },
    {
      "cell_type": "code",
      "metadata": {
        "colab": {
          "base_uri": "https://localhost:8080/"
        },
        "id": "iaEO-eIG0LZH",
        "outputId": "d9714e34-6a06-41b6-bc0e-9edaf4dc8703"
      },
      "source": [
        "pip install -U scikit-fuzzy"
      ],
      "execution_count": null,
      "outputs": [
        {
          "output_type": "stream",
          "name": "stdout",
          "text": [
            "Collecting scikit-fuzzy\n",
            "  Downloading scikit-fuzzy-0.4.2.tar.gz (993 kB)\n",
            "\u001b[?25l\r\u001b[K     |▎                               | 10 kB 24.0 MB/s eta 0:00:01\r\u001b[K     |▋                               | 20 kB 32.4 MB/s eta 0:00:01\r\u001b[K     |█                               | 30 kB 25.5 MB/s eta 0:00:01\r\u001b[K     |█▎                              | 40 kB 20.2 MB/s eta 0:00:01\r\u001b[K     |█▋                              | 51 kB 8.7 MB/s eta 0:00:01\r\u001b[K     |██                              | 61 kB 10.1 MB/s eta 0:00:01\r\u001b[K     |██▎                             | 71 kB 9.5 MB/s eta 0:00:01\r\u001b[K     |██▋                             | 81 kB 10.4 MB/s eta 0:00:01\r\u001b[K     |███                             | 92 kB 11.1 MB/s eta 0:00:01\r\u001b[K     |███▎                            | 102 kB 8.3 MB/s eta 0:00:01\r\u001b[K     |███▋                            | 112 kB 8.3 MB/s eta 0:00:01\r\u001b[K     |████                            | 122 kB 8.3 MB/s eta 0:00:01\r\u001b[K     |████▎                           | 133 kB 8.3 MB/s eta 0:00:01\r\u001b[K     |████▋                           | 143 kB 8.3 MB/s eta 0:00:01\r\u001b[K     |█████                           | 153 kB 8.3 MB/s eta 0:00:01\r\u001b[K     |█████▎                          | 163 kB 8.3 MB/s eta 0:00:01\r\u001b[K     |█████▋                          | 174 kB 8.3 MB/s eta 0:00:01\r\u001b[K     |██████                          | 184 kB 8.3 MB/s eta 0:00:01\r\u001b[K     |██████▎                         | 194 kB 8.3 MB/s eta 0:00:01\r\u001b[K     |██████▋                         | 204 kB 8.3 MB/s eta 0:00:01\r\u001b[K     |███████                         | 215 kB 8.3 MB/s eta 0:00:01\r\u001b[K     |███████▎                        | 225 kB 8.3 MB/s eta 0:00:01\r\u001b[K     |███████▋                        | 235 kB 8.3 MB/s eta 0:00:01\r\u001b[K     |████████                        | 245 kB 8.3 MB/s eta 0:00:01\r\u001b[K     |████████▎                       | 256 kB 8.3 MB/s eta 0:00:01\r\u001b[K     |████████▋                       | 266 kB 8.3 MB/s eta 0:00:01\r\u001b[K     |█████████                       | 276 kB 8.3 MB/s eta 0:00:01\r\u001b[K     |█████████▎                      | 286 kB 8.3 MB/s eta 0:00:01\r\u001b[K     |█████████▋                      | 296 kB 8.3 MB/s eta 0:00:01\r\u001b[K     |██████████                      | 307 kB 8.3 MB/s eta 0:00:01\r\u001b[K     |██████████▏                     | 317 kB 8.3 MB/s eta 0:00:01\r\u001b[K     |██████████▌                     | 327 kB 8.3 MB/s eta 0:00:01\r\u001b[K     |██████████▉                     | 337 kB 8.3 MB/s eta 0:00:01\r\u001b[K     |███████████▏                    | 348 kB 8.3 MB/s eta 0:00:01\r\u001b[K     |███████████▌                    | 358 kB 8.3 MB/s eta 0:00:01\r\u001b[K     |███████████▉                    | 368 kB 8.3 MB/s eta 0:00:01\r\u001b[K     |████████████▏                   | 378 kB 8.3 MB/s eta 0:00:01\r\u001b[K     |████████████▌                   | 389 kB 8.3 MB/s eta 0:00:01\r\u001b[K     |████████████▉                   | 399 kB 8.3 MB/s eta 0:00:01\r\u001b[K     |█████████████▏                  | 409 kB 8.3 MB/s eta 0:00:01\r\u001b[K     |█████████████▌                  | 419 kB 8.3 MB/s eta 0:00:01\r\u001b[K     |█████████████▉                  | 430 kB 8.3 MB/s eta 0:00:01\r\u001b[K     |██████████████▏                 | 440 kB 8.3 MB/s eta 0:00:01\r\u001b[K     |██████████████▌                 | 450 kB 8.3 MB/s eta 0:00:01\r\u001b[K     |██████████████▉                 | 460 kB 8.3 MB/s eta 0:00:01\r\u001b[K     |███████████████▏                | 471 kB 8.3 MB/s eta 0:00:01\r\u001b[K     |███████████████▌                | 481 kB 8.3 MB/s eta 0:00:01\r\u001b[K     |███████████████▉                | 491 kB 8.3 MB/s eta 0:00:01\r\u001b[K     |████████████████▏               | 501 kB 8.3 MB/s eta 0:00:01\r\u001b[K     |████████████████▌               | 512 kB 8.3 MB/s eta 0:00:01\r\u001b[K     |████████████████▉               | 522 kB 8.3 MB/s eta 0:00:01\r\u001b[K     |█████████████████▏              | 532 kB 8.3 MB/s eta 0:00:01\r\u001b[K     |█████████████████▌              | 542 kB 8.3 MB/s eta 0:00:01\r\u001b[K     |█████████████████▉              | 552 kB 8.3 MB/s eta 0:00:01\r\u001b[K     |██████████████████▏             | 563 kB 8.3 MB/s eta 0:00:01\r\u001b[K     |██████████████████▌             | 573 kB 8.3 MB/s eta 0:00:01\r\u001b[K     |██████████████████▉             | 583 kB 8.3 MB/s eta 0:00:01\r\u001b[K     |███████████████████▏            | 593 kB 8.3 MB/s eta 0:00:01\r\u001b[K     |███████████████████▌            | 604 kB 8.3 MB/s eta 0:00:01\r\u001b[K     |███████████████████▉            | 614 kB 8.3 MB/s eta 0:00:01\r\u001b[K     |████████████████████            | 624 kB 8.3 MB/s eta 0:00:01\r\u001b[K     |████████████████████▍           | 634 kB 8.3 MB/s eta 0:00:01\r\u001b[K     |████████████████████▊           | 645 kB 8.3 MB/s eta 0:00:01\r\u001b[K     |█████████████████████           | 655 kB 8.3 MB/s eta 0:00:01\r\u001b[K     |█████████████████████▍          | 665 kB 8.3 MB/s eta 0:00:01\r\u001b[K     |█████████████████████▊          | 675 kB 8.3 MB/s eta 0:00:01\r\u001b[K     |██████████████████████          | 686 kB 8.3 MB/s eta 0:00:01\r\u001b[K     |██████████████████████▍         | 696 kB 8.3 MB/s eta 0:00:01\r\u001b[K     |██████████████████████▊         | 706 kB 8.3 MB/s eta 0:00:01\r\u001b[K     |███████████████████████         | 716 kB 8.3 MB/s eta 0:00:01\r\u001b[K     |███████████████████████▍        | 727 kB 8.3 MB/s eta 0:00:01\r\u001b[K     |███████████████████████▊        | 737 kB 8.3 MB/s eta 0:00:01\r\u001b[K     |████████████████████████        | 747 kB 8.3 MB/s eta 0:00:01\r\u001b[K     |████████████████████████▍       | 757 kB 8.3 MB/s eta 0:00:01\r\u001b[K     |████████████████████████▊       | 768 kB 8.3 MB/s eta 0:00:01\r\u001b[K     |█████████████████████████       | 778 kB 8.3 MB/s eta 0:00:01\r\u001b[K     |█████████████████████████▍      | 788 kB 8.3 MB/s eta 0:00:01\r\u001b[K     |█████████████████████████▊      | 798 kB 8.3 MB/s eta 0:00:01\r\u001b[K     |██████████████████████████      | 808 kB 8.3 MB/s eta 0:00:01\r\u001b[K     |██████████████████████████▍     | 819 kB 8.3 MB/s eta 0:00:01\r\u001b[K     |██████████████████████████▊     | 829 kB 8.3 MB/s eta 0:00:01\r\u001b[K     |███████████████████████████     | 839 kB 8.3 MB/s eta 0:00:01\r\u001b[K     |███████████████████████████▍    | 849 kB 8.3 MB/s eta 0:00:01\r\u001b[K     |███████████████████████████▊    | 860 kB 8.3 MB/s eta 0:00:01\r\u001b[K     |████████████████████████████    | 870 kB 8.3 MB/s eta 0:00:01\r\u001b[K     |████████████████████████████▍   | 880 kB 8.3 MB/s eta 0:00:01\r\u001b[K     |████████████████████████████▊   | 890 kB 8.3 MB/s eta 0:00:01\r\u001b[K     |█████████████████████████████   | 901 kB 8.3 MB/s eta 0:00:01\r\u001b[K     |█████████████████████████████▍  | 911 kB 8.3 MB/s eta 0:00:01\r\u001b[K     |█████████████████████████████▊  | 921 kB 8.3 MB/s eta 0:00:01\r\u001b[K     |██████████████████████████████  | 931 kB 8.3 MB/s eta 0:00:01\r\u001b[K     |██████████████████████████████▎ | 942 kB 8.3 MB/s eta 0:00:01\r\u001b[K     |██████████████████████████████▋ | 952 kB 8.3 MB/s eta 0:00:01\r\u001b[K     |███████████████████████████████ | 962 kB 8.3 MB/s eta 0:00:01\r\u001b[K     |███████████████████████████████▎| 972 kB 8.3 MB/s eta 0:00:01\r\u001b[K     |███████████████████████████████▋| 983 kB 8.3 MB/s eta 0:00:01\r\u001b[K     |████████████████████████████████| 993 kB 8.3 MB/s eta 0:00:01\r\u001b[K     |████████████████████████████████| 993 kB 8.3 MB/s \n",
            "\u001b[?25hRequirement already satisfied: numpy>=1.6.0 in /usr/local/lib/python3.7/dist-packages (from scikit-fuzzy) (1.19.5)\n",
            "Requirement already satisfied: scipy>=0.9.0 in /usr/local/lib/python3.7/dist-packages (from scikit-fuzzy) (1.4.1)\n",
            "Requirement already satisfied: networkx>=1.9.0 in /usr/local/lib/python3.7/dist-packages (from scikit-fuzzy) (2.6.2)\n",
            "Building wheels for collected packages: scikit-fuzzy\n",
            "  Building wheel for scikit-fuzzy (setup.py) ... \u001b[?25l\u001b[?25hdone\n",
            "  Created wheel for scikit-fuzzy: filename=scikit_fuzzy-0.4.2-py3-none-any.whl size=894089 sha256=2e1c37d065ecbd9188f3599df3f311e6ae47e28669eba9dabcf2bcba9cba0ce7\n",
            "  Stored in directory: /root/.cache/pip/wheels/d5/74/fc/38588a3d2e3f34f74588e6daa3aa5b0a322bd6f9420a707131\n",
            "Successfully built scikit-fuzzy\n",
            "Installing collected packages: scikit-fuzzy\n",
            "Successfully installed scikit-fuzzy-0.4.2\n"
          ]
        }
      ]
    },
    {
      "cell_type": "code",
      "metadata": {
        "colab": {
          "base_uri": "https://localhost:8080/",
          "height": 225
        },
        "id": "gzh9m-kN0ni0",
        "outputId": "75a78fdd-f9e8-4d62-b7a0-1852820173c5"
      },
      "source": [
        "#import libary\n",
        "import numpy as np\n",
        "import skfuzzy as fuzz\n",
        "import matplotlib.pyplot as plt\n",
        "\n",
        "#variabel global\n",
        "x_qual = np.arange(0, 11, 1)\n",
        "x_serv = np.arange(0, 11, 1)\n",
        "x_tip  = np.arange(0, 26, 1)\n",
        "\n",
        "#membership function\n",
        "qual_lo = fuzz.trimf(x_qual, [0, 0, 5])\n",
        "qual_md = fuzz.trimf(x_qual, [0, 5, 10])\n",
        "qual_hi = fuzz.trimf(x_qual, [5, 10, 10])\n",
        "\n",
        "serv_lo = fuzz.trimf(x_serv, [0, 0, 5])\n",
        "serv_md = fuzz.trimf(x_serv, [0, 5, 10])\n",
        "serv_hi = fuzz.trimf(x_serv, [5, 10, 10])\n",
        "\n",
        "tip_lo = fuzz.trimf(x_tip, [0, 0, 13])\n",
        "tip_md = fuzz.trimf(x_tip, [0, 13, 25])\n",
        "tip_hi = fuzz.trimf(x_tip, [13, 25, 25])\n",
        "\n",
        "#pengujian fuzzy rules memberikan nilai 6.5 untuk kualitas makanan dan 9.8 untuk kualitas pelayanan\n",
        "qual_level_lo = fuzz.interp_membership(x_qual, qual_lo, 6.5)\n",
        "qual_level_md = fuzz.interp_membership(x_qual, qual_md, 6.5)\n",
        "qual_level_hi = fuzz.interp_membership(x_qual, qual_hi, 6.5)\n",
        "\n",
        "serv_level_lo = fuzz.interp_membership(x_serv, serv_lo, 9.8)\n",
        "serv_level_md = fuzz.interp_membership(x_serv, serv_md, 9.8)\n",
        "serv_level_hi = fuzz.interp_membership(x_serv, serv_hi, 9.8)\n",
        "\n",
        "\"\"\"------------\n",
        "Penerapan rules\n",
        "------------\"\"\"\n",
        "#rule 1\n",
        "active_rule1 = np.fmax(qual_level_lo, serv_level_lo)\n",
        "tip_activation_lo = np.fmin(active_rule1, tip_lo)\n",
        "\n",
        "#rule 2\n",
        "tip_activation_md = np.fmin(serv_level_md, tip_md)\n",
        "\n",
        "#rule 3\n",
        "active_rule3 = np.fmax(qual_level_hi, serv_level_hi)\n",
        "tip_activation_hi = np.fmin(active_rule3, tip_hi)\n",
        "tip0 = np.zeros_like(x_tip)\n",
        "\n",
        "\"\"\"-----------------------------------------------------------------------------\n",
        "1. Percobaan 3 ini berisi tentang proses deffuzyfikasi menggunakan \n",
        "metode centroid. Kode program berikut berisi tentang fungsi agregasi dari output \n",
        "yang telah disesuaikan dengan ke-3 rule yang ada. \n",
        "-----------------------------------------------------------------------------\"\"\"\n",
        "aggregated = np.fmax(tip_activation_lo, np.fmax(tip_activation_md, tip_activation_hi))\n",
        "\n",
        "\"\"\"-----------------------------------------------------------------------------\n",
        "2. Kemudian dilanjutkan dengan Deffuzifikasi menggunakan metode centroid dengan \n",
        "kode program di bawah ini :\n",
        "-----------------------------------------------------------------------------\"\"\"\n",
        "tip = fuzz.defuzz(x_tip, aggregated, 'centroid')\n",
        "tip_activation = fuzz.interp_membership(x_tip, aggregated, tip) #untuk plot\n",
        "\n",
        "\"\"\"-----------------------------------------------------------------------------\n",
        "3. Tahap yang terakhir adalah tahapan visualisasi dari hasil akhir untuk tip \n",
        "sebesar 20,2% dengan kode program berikut :\n",
        "-----------------------------------------------------------------------------\"\"\"\n",
        "fig, ax0 = plt.subplots(figsize=(8,3))\n",
        "\n",
        "ax0.plot(x_tip, tip_lo, 'b', linewidth=0.5, linestyle='--')\n",
        "ax0.plot(x_tip, tip_md, 'g', linewidth=0.5, linestyle='--')\n",
        "ax0.plot(x_tip, tip_hi, 'r', linewidth=0.5, linestyle='--')\n",
        "ax0.fill_between(x_tip, tip0, aggregated, facecolor='Orange', alpha=0.7)\n",
        "ax0.plot([tip, tip], [0, tip_activation], 'k', linewidth=1.5, alpha=0.9)\n",
        "ax0.set_title('Aggregated membership and result(line)')\n",
        "\n",
        "# mematikan/menghilangkan visual sumbu atas/kanan\n",
        "for ax in (ax0, ):\n",
        "    ax.spines['top'].set_visible(False)\n",
        "    ax.spines['right'].set_visible(False)\n",
        "    ax.get_xaxis().tick_bottom()\n",
        "    ax.get_yaxis().tick_left()\n",
        "\n",
        "plt.tight_layout()\n"
      ],
      "execution_count": null,
      "outputs": [
        {
          "output_type": "display_data",
          "data": {
            "image/png": "[encoded data removed]",
            "text/plain": [
              "<Figure size 576x216 with 1 Axes>"
            ]
          },
          "metadata": {
            "needs_background": "light"
          }
        }
      ]
    },
    {
      "cell_type": "code",
      "metadata": {
        "id": "dKPttsla91uX"
      },
      "source": [
        ""
      ],
      "execution_count": null,
      "outputs": []
    },
    {
      "cell_type": "markdown",
      "metadata": {
        "id": "9vXhXJ6t8WBp"
      },
      "source": [
        "# **Pertanyaan**\n",
        "\n",
        "---\n",
        "\n",
        "1.) Kenapa output yang dihasilkan pada percobaan 3 berumlah tiga output?\n",
        "\n",
        "**Jawab:**\n",
        "> *Karena dilakukan 3 tahap yaitu Fuzzyfikasi, Penerapan Fuzzy rule, dan Defuzzyfikasi*\n",
        "\n",
        "2.) Jelaskan mengenai tata cara (step by step) penggabungan ketiga output tersebut!\n",
        "\n",
        "**Jawab:**\n",
        "> *Langkah pertama yaitu memberikan input nilai pada variabel yang akan diproses, lalu tiap variabelnya ditampilkan sebagai output. Selanjutnya pada langkah kedua melakukan penggabungan kedua grafik dari kedua variabel(kualitas makanan dan kualitas pelayanan) dengan menyesuaikan fuzzy rule yang telah ditetapkan. Kemudian pada langkah ketiga yaitu agregasi dimana melakukan aktivasi dari output (hasil dari langkah kedua), lalu digabungkan dengan menggunakan operator maksimum sehingga mendapatkan hasil akhir dari proses defuzzifikasi*\n"
      ]
    }
  ]
}